{
  "nbformat": 4,
  "nbformat_minor": 0,
  "metadata": {
    "colab": {
      "provenance": [],
      "gpuType": "T4"
    },
    "kernelspec": {
      "name": "python3",
      "display_name": "Python 3"
    },
    "language_info": {
      "name": "python"
    },
    "accelerator": "GPU"
  },
  "cells": [
    {
      "cell_type": "code",
      "source": [
        "!pip install --upgrade pyarrow datasets"
      ],
      "metadata": {
        "colab": {
          "base_uri": "https://localhost:8080/"
        },
        "id": "uV_Zpra505W-",
        "outputId": "75309cec-d0dc-47ec-f08a-7aa647cdf801"
      },
      "execution_count": 1,
      "outputs": [
        {
          "output_type": "stream",
          "name": "stdout",
          "text": [
            "Requirement already satisfied: pyarrow in /usr/local/lib/python3.10/dist-packages (17.0.0)\n",
            "Requirement already satisfied: datasets in /usr/local/lib/python3.10/dist-packages (3.0.2)\n",
            "Requirement already satisfied: numpy>=1.16.6 in /usr/local/lib/python3.10/dist-packages (from pyarrow) (1.26.4)\n",
            "Requirement already satisfied: filelock in /usr/local/lib/python3.10/dist-packages (from datasets) (3.16.1)\n",
            "Requirement already satisfied: dill<0.3.9,>=0.3.0 in /usr/local/lib/python3.10/dist-packages (from datasets) (0.3.8)\n",
            "Requirement already satisfied: pandas in /usr/local/lib/python3.10/dist-packages (from datasets) (2.1.4)\n",
            "Requirement already satisfied: requests>=2.32.2 in /usr/local/lib/python3.10/dist-packages (from datasets) (2.32.3)\n",
            "Requirement already satisfied: tqdm>=4.66.3 in /usr/local/lib/python3.10/dist-packages (from datasets) (4.66.5)\n",
            "Requirement already satisfied: xxhash in /usr/local/lib/python3.10/dist-packages (from datasets) (3.5.0)\n",
            "Requirement already satisfied: multiprocess<0.70.17 in /usr/local/lib/python3.10/dist-packages (from datasets) (0.70.16)\n",
            "Requirement already satisfied: fsspec<=2024.9.0,>=2023.1.0 in /usr/local/lib/python3.10/dist-packages (from fsspec[http]<=2024.9.0,>=2023.1.0->datasets) (2024.6.1)\n",
            "Requirement already satisfied: aiohttp in /usr/local/lib/python3.10/dist-packages (from datasets) (3.10.5)\n",
            "Requirement already satisfied: huggingface-hub>=0.23.0 in /usr/local/lib/python3.10/dist-packages (from datasets) (0.24.7)\n",
            "Requirement already satisfied: packaging in /usr/local/lib/python3.10/dist-packages (from datasets) (24.1)\n",
            "Requirement already satisfied: pyyaml>=5.1 in /usr/local/lib/python3.10/dist-packages (from datasets) (6.0.2)\n",
            "Requirement already satisfied: aiohappyeyeballs>=2.3.0 in /usr/local/lib/python3.10/dist-packages (from aiohttp->datasets) (2.4.0)\n",
            "Requirement already satisfied: aiosignal>=1.1.2 in /usr/local/lib/python3.10/dist-packages (from aiohttp->datasets) (1.3.1)\n",
            "Requirement already satisfied: attrs>=17.3.0 in /usr/local/lib/python3.10/dist-packages (from aiohttp->datasets) (24.2.0)\n",
            "Requirement already satisfied: frozenlist>=1.1.1 in /usr/local/lib/python3.10/dist-packages (from aiohttp->datasets) (1.4.1)\n",
            "Requirement already satisfied: multidict<7.0,>=4.5 in /usr/local/lib/python3.10/dist-packages (from aiohttp->datasets) (6.1.0)\n",
            "Requirement already satisfied: yarl<2.0,>=1.0 in /usr/local/lib/python3.10/dist-packages (from aiohttp->datasets) (1.11.1)\n",
            "Requirement already satisfied: async-timeout<5.0,>=4.0 in /usr/local/lib/python3.10/dist-packages (from aiohttp->datasets) (4.0.3)\n",
            "Requirement already satisfied: typing-extensions>=3.7.4.3 in /usr/local/lib/python3.10/dist-packages (from huggingface-hub>=0.23.0->datasets) (4.12.2)\n",
            "Requirement already satisfied: charset-normalizer<4,>=2 in /usr/local/lib/python3.10/dist-packages (from requests>=2.32.2->datasets) (3.3.2)\n",
            "Requirement already satisfied: idna<4,>=2.5 in /usr/local/lib/python3.10/dist-packages (from requests>=2.32.2->datasets) (3.10)\n",
            "Requirement already satisfied: urllib3<3,>=1.21.1 in /usr/local/lib/python3.10/dist-packages (from requests>=2.32.2->datasets) (2.2.3)\n",
            "Requirement already satisfied: certifi>=2017.4.17 in /usr/local/lib/python3.10/dist-packages (from requests>=2.32.2->datasets) (2024.8.30)\n",
            "Requirement already satisfied: python-dateutil>=2.8.2 in /usr/local/lib/python3.10/dist-packages (from pandas->datasets) (2.8.2)\n",
            "Requirement already satisfied: pytz>=2020.1 in /usr/local/lib/python3.10/dist-packages (from pandas->datasets) (2024.2)\n",
            "Requirement already satisfied: tzdata>=2022.1 in /usr/local/lib/python3.10/dist-packages (from pandas->datasets) (2024.1)\n",
            "Requirement already satisfied: six>=1.5 in /usr/local/lib/python3.10/dist-packages (from python-dateutil>=2.8.2->pandas->datasets) (1.16.0)\n"
          ]
        }
      ]
    },
    {
      "cell_type": "code",
      "execution_count": 2,
      "metadata": {
        "id": "tVO-Ng5BwqhK"
      },
      "outputs": [],
      "source": [
        "import os\n",
        "import pandas as pd\n",
        "import librosa\n",
        "import numpy as np\n",
        "import torch\n",
        "from datasets import Dataset\n",
        "from transformers import SpeechT5Processor, SpeechT5ForTextToSpeech, Trainer, TrainingArguments"
      ]
    },
    {
      "cell_type": "code",
      "source": [
        "class CustomDataCollator:\n",
        "    def __init__(self, processor, target_length=512):  # Set a fixed target length\n",
        "        self.processor = processor\n",
        "        self.target_length = target_length\n",
        "\n",
        "    def __call__(self, features):\n",
        "        # Process text inputs\n",
        "        input_ids = [f[\"input_ids\"] for f in features]\n",
        "        attention_mask = [f[\"attention_mask\"] for f in features]\n",
        "\n",
        "        # Pad input ids and attention mask\n",
        "        max_length = max(len(ids) for ids in input_ids)\n",
        "        padded_input_ids = []\n",
        "        padded_attention_mask = []\n",
        "\n",
        "        for ids, mask in zip(input_ids, attention_mask):\n",
        "            padding_length = max_length - len(ids)\n",
        "            padded_input_ids.append(ids + [self.processor.tokenizer.pad_token_id] * padding_length)\n",
        "            padded_attention_mask.append(mask + [0] * padding_length)\n",
        "\n",
        "        # Convert to tensors\n",
        "        input_ids_tensor = torch.tensor(padded_input_ids, dtype=torch.long)\n",
        "        attention_mask_tensor = torch.tensor(padded_attention_mask, dtype=torch.long)\n",
        "\n",
        "        # Process audio features\n",
        "        speech_arrays = [np.array(f[\"labels\"]) for f in features]\n",
        "\n",
        "        # Convert raw audio to mel spectrograms with fixed length\n",
        "        mel_specs = []\n",
        "        for audio in speech_arrays:\n",
        "            # Ensure audio length is consistent\n",
        "            target_audio_length = int(self.target_length * 512)  # hop_length=512\n",
        "            if len(audio) > target_audio_length:\n",
        "                audio = audio[:target_audio_length]\n",
        "            else:\n",
        "                audio = np.pad(audio, (0, target_audio_length - len(audio)), mode='constant')\n",
        "\n",
        "            # Convert to mel spectrogram\n",
        "            mel_spec = librosa.feature.melspectrogram(\n",
        "                y=audio,\n",
        "                sr=16000,\n",
        "                n_mels=80,\n",
        "                n_fft=2048,\n",
        "                hop_length=512,\n",
        "                win_length=2048,\n",
        "                center=True,\n",
        "                pad_mode='reflect'\n",
        "            )\n",
        "\n",
        "            # Convert to log mel spectrogram\n",
        "            mel_spec = librosa.power_to_db(mel_spec, ref=np.max)\n",
        "            # Transpose to get time dimension first (T x 80)\n",
        "            mel_spec = mel_spec.T\n",
        "\n",
        "            # Ensure exact length\n",
        "            if mel_spec.shape[0] > self.target_length:\n",
        "                mel_spec = mel_spec[:self.target_length, :]\n",
        "            elif mel_spec.shape[0] < self.target_length:\n",
        "                padding = np.zeros((self.target_length - mel_spec.shape[0], 80))\n",
        "                mel_spec = np.concatenate([mel_spec, padding], axis=0)\n",
        "\n",
        "            mel_specs.append(mel_spec)\n",
        "\n",
        "        # Convert to tensor (B x T x 80)\n",
        "        speech_tensor = torch.tensor(np.stack(mel_specs), dtype=torch.float32)\n",
        "\n",
        "        return {\n",
        "            \"input_ids\": input_ids_tensor,\n",
        "            \"attention_mask\": attention_mask_tensor,\n",
        "            \"labels\": speech_tensor,\n",
        "        }\n"
      ],
      "metadata": {
        "id": "dqiETt5pxZcm"
      },
      "execution_count": 3,
      "outputs": []
    },
    {
      "cell_type": "code",
      "source": [
        "def load_audio(file_path, dataset_dir, max_duration=10.0):\n",
        "    \"\"\"Load and process audio file with duration limit\"\"\"\n",
        "    full_path = os.path.join(dataset_dir, file_path)\n",
        "    if not os.path.exists(full_path):\n",
        "        print(f\"Audio file does not exist: {full_path}\")\n",
        "        return None\n",
        "\n",
        "    try:\n",
        "        # Load audio with specified duration limit\n",
        "        speech_array, sampling_rate = librosa.load(full_path, sr=16000, duration=max_duration)\n",
        "        if speech_array is not None and len(speech_array) > 0:\n",
        "            speech_array = librosa.util.normalize(speech_array)\n",
        "            return speech_array\n",
        "        else:\n",
        "            print(f\"Loaded audio is empty: {full_path}\")\n",
        "            return None\n",
        "    except Exception as e:\n",
        "        print(f\"Error loading audio from {full_path}: {e}\")\n",
        "        return None\n"
      ],
      "metadata": {
        "id": "zpsNmop4xjga"
      },
      "execution_count": 4,
      "outputs": []
    },
    {
      "cell_type": "code",
      "source": [
        "def prepare_dataset(df, dataset_dir, processor):\n",
        "    \"\"\"Prepare dataset with both audio and text data\"\"\"\n",
        "    processed_data = []\n",
        "\n",
        "    print(\"Processing audio files...\")\n",
        "    for idx, row in df.iterrows():\n",
        "        audio = load_audio(row['Audio Path'], dataset_dir)\n",
        "        if audio is not None:\n",
        "            # Process the text\n",
        "            text_inputs = processor(\n",
        "                text=row['Text'],\n",
        "                return_tensors=\"pt\",\n",
        "                padding=True,\n",
        "                max_length=256,\n",
        "                truncation=True\n",
        "            )\n",
        "\n",
        "            processed_item = {\n",
        "                'input_ids': text_inputs['input_ids'][0].tolist(),\n",
        "                'attention_mask': text_inputs['attention_mask'][0].tolist(),\n",
        "                'labels': audio.tolist(),\n",
        "                'text': row['Text']\n",
        "            }\n",
        "\n",
        "            processed_data.append(processed_item)\n",
        "\n",
        "        if idx % 100 == 0:\n",
        "            print(f\"Processed {idx} files...\")\n",
        "\n",
        "    if not processed_data:\n",
        "        raise ValueError(\"No data was successfully processed\")\n",
        "\n",
        "    print(f\"Successfully processed {len(processed_data)} files\")\n",
        "    return Dataset.from_list(processed_data)\n",
        "\n"
      ],
      "metadata": {
        "id": "z4wmL9HsxtZU"
      },
      "execution_count": 5,
      "outputs": []
    },
    {
      "cell_type": "code",
      "source": [
        "from google.colab import drive\n",
        "drive.mount('/content/drive')"
      ],
      "metadata": {
        "colab": {
          "base_uri": "https://localhost:8080/"
        },
        "id": "NmjYdD5K0vCR",
        "outputId": "42dd2a7f-8e75-4598-cb48-3bf9c144d7a6"
      },
      "execution_count": 6,
      "outputs": [
        {
          "output_type": "stream",
          "name": "stdout",
          "text": [
            "Drive already mounted at /content/drive; to attempt to forcibly remount, call drive.mount(\"/content/drive\", force_remount=True).\n"
          ]
        }
      ]
    },
    {
      "cell_type": "code",
      "source": [
        "def main():\n",
        "    # Set device\n",
        "    device = torch.device(\"cuda\" if torch.cuda.is_available() else \"cpu\")\n",
        "    print(f\"Using device: {device}\")\n",
        "\n",
        "    # Load model components\n",
        "    print(\"Loading model components...\")\n",
        "    processor = SpeechT5Processor.from_pretrained(\"microsoft/speecht5_tts\")\n",
        "    model = SpeechT5ForTextToSpeech.from_pretrained(\"microsoft/speecht5_tts\")\n",
        "    model.config.use_cache = False\n",
        "    model.to(device)\n",
        "\n",
        "    # Load metadata\n",
        "    print(\"Loading metadata...\")\n",
        "    dataset_dir = '/content/drive/My Drive/dataset'\n",
        "    metadata_path = os.path.join(dataset_dir, 'metadata.csv')\n",
        "\n",
        "    df = pd.read_csv(metadata_path)\n",
        "    df['Audio Path'] = df['Audio Path'].apply(lambda x: os.path.join('wavs', x.strip()))\n",
        "\n",
        "    # Prepare dataset\n",
        "    print(\"\\nPreparing dataset...\")\n",
        "    dataset = prepare_dataset(df, dataset_dir, processor)\n",
        "\n",
        "    # Training arguments\n",
        "    training_args = TrainingArguments(\n",
        "        output_dir=\"./output\",\n",
        "        per_device_train_batch_size=2,\n",
        "        gradient_accumulation_steps=4,\n",
        "        evaluation_strategy=\"steps\",\n",
        "        save_steps=500,\n",
        "        eval_steps=500,\n",
        "        logging_dir=\"./logs\",\n",
        "        learning_rate=5e-5,\n",
        "        num_train_epochs=3,\n",
        "        weight_decay=0.01,\n",
        "        fp16=True,\n",
        "        dataloader_num_workers=2,\n",
        "        dataloader_pin_memory=True,\n",
        "    )\n",
        "\n",
        "    # Initialize trainer\n",
        "    print(\"\\nInitializing trainer...\")\n",
        "    trainer = Trainer(\n",
        "        model=model,\n",
        "        args=training_args,\n",
        "        train_dataset=dataset,\n",
        "        data_collator=CustomDataCollator(processor),\n",
        "    )\n",
        "\n",
        "    # Start training\n",
        "    print(\"\\nStarting training...\")\n",
        "    trainer.train()\n",
        "\n",
        "    # Save the model\n",
        "    print(\"\\nSaving model...\")\n",
        "    model.save_pretrained(\"/content/drive/My Drive/fine_tuned_model\")\n",
        "    processor.save_pretrained(\"/content/drive/My Drive//fine_tuned_model\")\n",
        "\n"
      ],
      "metadata": {
        "id": "_klOCN-bxxSK"
      },
      "execution_count": 7,
      "outputs": []
    },
    {
      "cell_type": "code",
      "source": [
        "if __name__ == \"__main__\":\n",
        "    main()"
      ],
      "metadata": {
        "colab": {
          "base_uri": "https://localhost:8080/",
          "height": 581
        },
        "id": "P_mpZgjFx0Lt",
        "outputId": "688b071a-79d0-435c-c9ec-7aff5d5e9338"
      },
      "execution_count": 9,
      "outputs": [
        {
          "output_type": "stream",
          "name": "stdout",
          "text": [
            "Using device: cuda\n",
            "Loading model components...\n"
          ]
        },
        {
          "output_type": "stream",
          "name": "stderr",
          "text": [
            "/usr/local/lib/python3.10/dist-packages/transformers/tokenization_utils_base.py:1601: FutureWarning: `clean_up_tokenization_spaces` was not set. It will be set to `True` by default. This behavior will be depracted in transformers v4.45, and will be then set to `False` by default. For more details check this issue: https://github.com/huggingface/transformers/issues/31884\n",
            "  warnings.warn(\n"
          ]
        },
        {
          "output_type": "stream",
          "name": "stdout",
          "text": [
            "Loading metadata...\n",
            "\n",
            "Preparing dataset...\n",
            "Processing audio files...\n",
            "Processed 0 files...\n",
            "Successfully processed 6 files\n"
          ]
        },
        {
          "output_type": "stream",
          "name": "stderr",
          "text": [
            "/usr/local/lib/python3.10/dist-packages/transformers/training_args.py:1525: FutureWarning: `evaluation_strategy` is deprecated and will be removed in version 4.46 of 🤗 Transformers. Use `eval_strategy` instead\n",
            "  warnings.warn(\n",
            "/usr/local/lib/python3.10/dist-packages/accelerate/accelerator.py:494: FutureWarning: `torch.cuda.amp.GradScaler(args...)` is deprecated. Please use `torch.amp.GradScaler('cuda', args...)` instead.\n",
            "  self.scaler = torch.cuda.amp.GradScaler(**kwargs)\n"
          ]
        },
        {
          "output_type": "stream",
          "name": "stdout",
          "text": [
            "\n",
            "Initializing trainer...\n",
            "\n",
            "Starting training...\n"
          ]
        },
        {
          "output_type": "stream",
          "name": "stderr",
          "text": [
            "/usr/lib/python3.10/multiprocessing/popen_fork.py:66: RuntimeWarning: os.fork() was called. os.fork() is incompatible with multithreaded code, and JAX is multithreaded, so this will likely lead to a deadlock.\n",
            "  self.pid = os.fork()\n"
          ]
        },
        {
          "output_type": "display_data",
          "data": {
            "text/plain": [
              "<IPython.core.display.HTML object>"
            ],
            "text/html": [
              "\n",
              "    <div>\n",
              "      \n",
              "      <progress value='3' max='3' style='width:300px; height:20px; vertical-align: middle;'></progress>\n",
              "      [3/3 00:06, Epoch 2/3]\n",
              "    </div>\n",
              "    <table border=\"1\" class=\"dataframe\">\n",
              "  <thead>\n",
              " <tr style=\"text-align: left;\">\n",
              "      <th>Step</th>\n",
              "      <th>Training Loss</th>\n",
              "      <th>Validation Loss</th>\n",
              "    </tr>\n",
              "  </thead>\n",
              "  <tbody>\n",
              "  </tbody>\n",
              "</table><p>"
            ]
          },
          "metadata": {}
        },
        {
          "output_type": "stream",
          "name": "stderr",
          "text": [
            "Some non-default generation parameters are set in the model config. These should go into a GenerationConfig file (https://huggingface.co/docs/transformers/generation_strategies#save-a-custom-decoding-strategy-with-your-model) instead. This warning will be raised to an exception in v4.41.\n",
            "Non-default generation parameters: {'max_length': 1876}\n",
            "Your generation config was originally created from the model config, but the model config has changed since then. Unless you pass the `generation_config` argument to this model's `generate` calls, they will revert to the legacy behavior where the base `generate` parameterization is loaded from the model config instead. To avoid this behavior and this warning, we recommend you to overwrite the generation config model attribute before calling the model's `save_pretrained`, preferably also removing any generation kwargs from the model config. This warning will be raised to an exception in v4.41.\n",
            "Some non-default generation parameters are set in the model config. These should go into a GenerationConfig file (https://huggingface.co/docs/transformers/generation_strategies#save-a-custom-decoding-strategy-with-your-model) instead. This warning will be raised to an exception in v4.41.\n",
            "Non-default generation parameters: {'max_length': 1876}\n",
            "Your generation config was originally created from the model config, but the model config has changed since then. Unless you pass the `generation_config` argument to this model's `generate` calls, they will revert to the legacy behavior where the base `generate` parameterization is loaded from the model config instead. To avoid this behavior and this warning, we recommend you to overwrite the generation config model attribute before calling the model's `save_pretrained`, preferably also removing any generation kwargs from the model config. This warning will be raised to an exception in v4.41.\n"
          ]
        },
        {
          "output_type": "stream",
          "name": "stdout",
          "text": [
            "\n",
            "Saving model...\n"
          ]
        }
      ]
    },
    {
      "cell_type": "code",
      "source": [],
      "metadata": {
        "id": "WFCOvE-I2FxK"
      },
      "execution_count": null,
      "outputs": []
    }
  ]
}